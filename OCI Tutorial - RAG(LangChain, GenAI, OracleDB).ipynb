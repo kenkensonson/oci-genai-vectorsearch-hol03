{
 "cells": [
  {
   "cell_type": "code",
   "execution_count": null,
   "id": "412966e9-3c7a-4a9a-aa5e-710faa945af7",
   "metadata": {},
   "outputs": [],
   "source": [
    "!pip install --upgrade pip\n",
    "!pip install -Uq oracledb pypdf cohere langchain langchain-community langchain-core oci"
   ]
  },
  {
   "cell_type": "code",
   "execution_count": 1,
   "id": "dcaac796-9a35-424a-b201-acb63459e8e4",
   "metadata": {},
   "outputs": [
    {
     "name": "stdout",
     "output_type": "stream",
     "text": [
      "Connection successful!\n"
     ]
    }
   ],
   "source": [
    "import oracledb\n",
    "\n",
    "username = \"docuser\"\n",
    "password = \"docuser\"\n",
    "dsn = \"localhost/freepdb1\"\n",
    "\n",
    "try:\n",
    "    connection = oracledb.connect(user=username, password=password, dsn=dsn)\n",
    "    print(\"Connection successful!\")\n",
    "except Exception as e:\n",
    "    print(\"Connection failed!\")"
   ]
  },
  {
   "cell_type": "code",
   "execution_count": 2,
   "id": "1cee3e1d-ef09-4ee1-891b-3cf206f09bf7",
   "metadata": {},
   "outputs": [],
   "source": [
    "from langchain.document_loaders import PyPDFLoader\n",
    "\n",
    "loader = PyPDFLoader(\"/tmp/rocket.pdf\")\n",
    "documents = loader.load_and_split()"
   ]
  },
  {
   "cell_type": "code",
   "execution_count": 3,
   "id": "dac9ef0a-88a8-4b29-91f5-b07b0481f137",
   "metadata": {},
   "outputs": [
    {
     "data": {
      "text/plain": [
       "[Document(page_content='当社が開発したロケットエンジンである OraBooster は、次世代の宇宙探査を支える先進的な推進技術の\\n象徴です。その独自の設計は、高性能と革新性を融合させ、人類の宇宙進出を加速させるための革命的\\nな一歩となります。\\nこのエンジンの核となるのは、量子ダイナミックス・プラズマ・ブースターです。このブースターは、\\n量子力学の原理に基づいてプラズマを生成し、超高速で加速させます。その結果、従来の化学反応より\\nもはるかに高い推力を発生し、遠く離れた惑星や星系への探査を可能にします。\\nさらに、エンジンの外殻にはナノファイバー製の超軽量かつ超強度の素材が使用されています。この素\\n材は、宇宙空間の過酷な環境に耐え、高速での飛行中に生じる熱や衝撃からロケットを守ります。\\nまた、ハイパーフォトン・ジャイロスコープが搭載されており、極めて高い精度でロケットの姿勢を維\\n持し、目標を追跡します。これにより、長時間にわたる宇宙飛行中でも安定した飛行軌道を維持し、\\nミッションの成功を確保します。\\nさらに、バイオニック・リアクション・レスポンダーが統合されています。このシステムは、人工知能\\nと生体認識技術を組み合わせ、ロケットの異常な振動や動きを検知し、自己修復機能を活性化します。\\n総じて、この新開発のロケットエンジンは、革新的な技術と未来志向の設計によって、宇宙探査の新た\\nな時代を切り開くことでしょう。その高い性能と信頼性は、人類の夢を実現するための力強い支援とな\\nることでしょう。', metadata={'source': '/tmp/rocket.pdf', 'page': 0})]"
      ]
     },
     "execution_count": 3,
     "metadata": {},
     "output_type": "execute_result"
    }
   ],
   "source": [
    "documents "
   ]
  },
  {
   "cell_type": "code",
   "execution_count": 4,
   "id": "907dd1c2-b69f-4735-bfec-da8c2d702d3b",
   "metadata": {},
   "outputs": [
    {
     "name": "stdout",
     "output_type": "stream",
     "text": [
      "[Document(page_content='当社が開発したロケットエンジンである OraBooster は、次世代の宇宙探査を支える先進的な推進技術の\\n象徴です', metadata={'source': '/tmp/rocket.pdf', 'page': 0}), Document(page_content='その独自の設計は、高性能と革新性を融合させ、人類の宇宙進出を加速させるための革命的\\nな一歩となります。\\nこのエンジンの核となるのは、量子ダイナミックス・プラズマ・ブースターです', metadata={'source': '/tmp/rocket.pdf', 'page': 0}), Document(page_content='このブースターは、\\n量子力学の原理に基づいてプラズマを生成し、超高速で加速させます。その結果、従来の化学反応より\\nもはるかに高い推力を発生し、遠く離れた惑星や星系への探査を可能にします', metadata={'source': '/tmp/rocket.pdf', 'page': 0}), Document(page_content='さらに、エンジンの外殻にはナノファイバー製の超軽量かつ超強度の素材が使用されています。この素\\n材は、宇宙空間の過酷な環境に耐え、高速での飛行中に生じる熱や衝撃からロケットを守ります', metadata={'source': '/tmp/rocket.pdf', 'page': 0}), Document(page_content='また、ハイパーフォトン・ジャイロスコープが搭載されており、極めて高い精度でロケットの姿勢を維\\n持し、目標を追跡します', metadata={'source': '/tmp/rocket.pdf', 'page': 0}), Document(page_content='これにより、長時間にわたる宇宙飛行中でも安定した飛行軌道を維持し、\\nミッションの成功を確保します。\\nさらに、バイオニック・リアクション・レスポンダーが統合されています', metadata={'source': '/tmp/rocket.pdf', 'page': 0}), Document(page_content='このシステムは、人工知能\\nと生体認識技術を組み合わせ、ロケットの異常な振動や動きを検知し、自己修復機能を活性化します', metadata={'source': '/tmp/rocket.pdf', 'page': 0}), Document(page_content='総じて、この新開発のロケットエンジンは、革新的な技術と未来志向の設計によって、宇宙探査の新た\\nな時代を切り開くことでしょう', metadata={'source': '/tmp/rocket.pdf', 'page': 0}), Document(page_content='その高い性能と信頼性は、人類の夢を実現するための力強い支援とな\\nることでしょう', metadata={'source': '/tmp/rocket.pdf', 'page': 0})]\n"
     ]
    }
   ],
   "source": [
    "from langchain.text_splitter import CharacterTextSplitter\n",
    "\n",
    "text_splitter = CharacterTextSplitter(separator=\"。\", chunk_size=100, chunk_overlap=10)\n",
    "docs = text_splitter.split_documents(documents)\n",
    "print(docs)"
   ]
  },
  {
   "cell_type": "code",
   "execution_count": 5,
   "id": "69c33874-b90a-4ed8-b13c-da75731b00ea",
   "metadata": {},
   "outputs": [],
   "source": [
    "from langchain_community.vectorstores import oraclevs\n",
    "from langchain_community.vectorstores.oraclevs import OracleVS\n",
    "from langchain_community.vectorstores.utils import DistanceStrategy\n",
    "from langchain_core.documents import Document\n",
    "from langchain_community.embeddings import OCIGenAIEmbeddings"
   ]
  },
  {
   "cell_type": "code",
   "execution_count": 6,
   "id": "64441cfc-dbc5-46f3-b055-cbde09d763b2",
   "metadata": {},
   "outputs": [],
   "source": [
    "embeddings = OCIGenAIEmbeddings(\n",
    "    model_id=\"cohere.embed-multilingual-v3.0\",\n",
    "    service_endpoint=\"https://inference.generativeai.us-chicago-1.oci.oraclecloud.com\",\n",
    "    compartment_id=\"ocid1.compartment.oc1..aaaaaaaapq43ke3tgcc4cd65teeeccrd6rb4qyqfpllyutrau4j2bijwewlq\",\n",
    ")"
   ]
  },
  {
   "cell_type": "code",
   "execution_count": 7,
   "id": "5e196d4a-248f-4804-b27e-cfd988dfb237",
   "metadata": {},
   "outputs": [],
   "source": [
    "vector_store_dot = OracleVS.from_documents(\n",
    "    docs,\n",
    "    embeddings,\n",
    "    client=connection,\n",
    "    table_name=\"doc_table\",\n",
    "    distance_strategy=DistanceStrategy.DOT_PRODUCT,\n",
    ")"
   ]
  },
  {
   "cell_type": "code",
   "execution_count": 8,
   "id": "406743ce-4197-4bcd-a4cd-929395e0a07b",
   "metadata": {},
   "outputs": [],
   "source": [
    "retriever = vector_store_dot.as_retriever()"
   ]
  },
  {
   "cell_type": "code",
   "execution_count": 9,
   "id": "401ffe88-5588-40e0-b37c-cd0d8e7de169",
   "metadata": {},
   "outputs": [],
   "source": [
    "from langchain_core.prompts import ChatPromptTemplate\n",
    "from langchain_core.messages import AIMessage, HumanMessage, SystemMessage\n",
    "\n",
    "template = \"\"\"contextに従って回答してください:\n",
    "{context}\n",
    "\n",
    "質問: {question}\n",
    "\"\"\"\n",
    "\n",
    "prompt = ChatPromptTemplate.from_template(template)"
   ]
  },
  {
   "cell_type": "code",
   "execution_count": 10,
   "id": "bc316ec0-345e-4853-aa87-e14b1bebba59",
   "metadata": {},
   "outputs": [],
   "source": [
    "from langchain_community.chat_models.oci_generative_ai import ChatOCIGenAI\n",
    "\n",
    "llm = ChatOCIGenAI(\n",
    "    #model_id=\"cohere.command-r-16k\",\n",
    "    model_id=\"cohere.command-r-plus\",\n",
    "    service_endpoint=\"https://inference.generativeai.us-chicago-1.oci.oraclecloud.com\",\n",
    "    compartment_id=\"ocid1.compartment.oc1..aaaaaaaapq43ke3tgcc4cd65teeeccrd6rb4qyqfpllyutrau4j2bijwewlq\",\n",
    "    model_kwargs={\"temperature\": 0.7, \"max_tokens\": 500},\n",
    ")"
   ]
  },
  {
   "cell_type": "code",
   "execution_count": 11,
   "id": "c9f8c9f6-583d-48bc-92fa-3935be0fa4b7",
   "metadata": {},
   "outputs": [],
   "source": [
    "from langchain.schema.runnable import RunnablePassthrough\n",
    "from langchain.schema.output_parser import StrOutputParser\n",
    "\n",
    "chain = (\n",
    "    {\"context\": retriever, \"question\": RunnablePassthrough()}\n",
    "    | prompt\n",
    "    | llm\n",
    "    | StrOutputParser()\n",
    ")"
   ]
  },
  {
   "cell_type": "code",
   "execution_count": 12,
   "id": "672d351d-ed10-4dcf-af51-415e48542445",
   "metadata": {},
   "outputs": [
    {
     "name": "stdout",
     "output_type": "stream",
     "text": [
      "OraBooster は、あなたの会社が開発した先進的なロケットエンジンです。量子力学の原理を利用してプラズマを生成・加速し、従来よりもはるかに高い推力を生み出すことで、遠方の惑星や星系への宇宙探査を可能にします。さらに、ハイパーフォトン・ジャイロスコープを搭載することで、極めて高い精度でロケットの姿勢制御と目標追跡を行えます。OraBooster は、次世代の宇宙探査を支える高い性能と信頼性を兼ね備えています。\n"
     ]
    }
   ],
   "source": [
    "print(chain.invoke(\"OraBoosterとは何ですか?\"))"
   ]
  },
  {
   "cell_type": "code",
   "execution_count": 13,
   "id": "3e9ac9f5-0b0d-421c-b364-b88e298dd2bd",
   "metadata": {},
   "outputs": [],
   "source": [
    "connection.close()"
   ]
  },
  {
   "cell_type": "code",
   "execution_count": null,
   "id": "a5ddab29-d00c-47a5-b153-f6642d988c8e",
   "metadata": {},
   "outputs": [],
   "source": []
  }
 ],
 "metadata": {
  "kernelspec": {
   "display_name": "test3",
   "language": "python",
   "name": "test3"
  },
  "language_info": {
   "codemirror_mode": {
    "name": "ipython",
    "version": 3
   },
   "file_extension": ".py",
   "mimetype": "text/x-python",
   "name": "python",
   "nbconvert_exporter": "python",
   "pygments_lexer": "ipython3",
   "version": "3.11.7"
  }
 },
 "nbformat": 4,
 "nbformat_minor": 5
}
